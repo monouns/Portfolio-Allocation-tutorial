{
  "nbformat": 4,
  "nbformat_minor": 0,
  "metadata": {
    "colab": {
      "name": "HRP_Portfolio.ipynb",
      "provenance": [],
      "collapsed_sections": [],
      "authorship_tag": "ABX9TyPoqQtuCUe5ZtCZjjyyJFDl",
      "include_colab_link": true
    },
    "kernelspec": {
      "name": "python3",
      "display_name": "Python 3"
    },
    "language_info": {
      "name": "python"
    }
  },
  "cells": [
    {
      "cell_type": "markdown",
      "metadata": {
        "id": "view-in-github",
        "colab_type": "text"
      },
      "source": [
        "<a href=\"https://colab.research.google.com/github/monouns/Portfolio-Allocation-tutorial/blob/master/HRP_Portfolio.ipynb\" target=\"_parent\"><img src=\"https://colab.research.google.com/assets/colab-badge.svg\" alt=\"Open In Colab\"/></a>"
      ]
    },
    {
      "cell_type": "markdown",
      "source": [
        "# Install Riskfolio"
      ],
      "metadata": {
        "id": "4p81ngq4dcam"
      }
    },
    {
      "cell_type": "code",
      "source": [
        "!pip install Riskfolio-Lib"
      ],
      "metadata": {
        "colab": {
          "base_uri": "https://localhost:8080/"
        },
        "id": "KMHiQyP0ZhmY",
        "outputId": "990a484a-7c39-4493-d2ca-ec750d7281f2"
      },
      "execution_count": 1,
      "outputs": [
        {
          "output_type": "stream",
          "name": "stdout",
          "text": [
            "Looking in indexes: https://pypi.org/simple, https://us-python.pkg.dev/colab-wheels/public/simple/\n",
            "Requirement already satisfied: Riskfolio-Lib in /usr/local/lib/python3.7/dist-packages (3.1.1)\n",
            "Requirement already satisfied: scipy>=1.0.1 in /usr/local/lib/python3.7/dist-packages (from Riskfolio-Lib) (1.4.1)\n",
            "Requirement already satisfied: statsmodels>=0.10.1 in /usr/local/lib/python3.7/dist-packages (from Riskfolio-Lib) (0.13.2)\n",
            "Requirement already satisfied: scikit-learn>=0.22.0 in /usr/local/lib/python3.7/dist-packages (from Riskfolio-Lib) (1.0.2)\n",
            "Requirement already satisfied: xlsxwriter>=1.3.7 in /usr/local/lib/python3.7/dist-packages (from Riskfolio-Lib) (3.0.3)\n",
            "Requirement already satisfied: networkx>=2.5.1 in /usr/local/lib/python3.7/dist-packages (from Riskfolio-Lib) (2.6.3)\n",
            "Requirement already satisfied: cvxpy>=1.0.25 in /usr/local/lib/python3.7/dist-packages (from Riskfolio-Lib) (1.0.31)\n",
            "Requirement already satisfied: matplotlib>=3.3.0 in /usr/local/lib/python3.7/dist-packages (from Riskfolio-Lib) (3.5.2)\n",
            "Requirement already satisfied: pandas>=1.0.0 in /usr/local/lib/python3.7/dist-packages (from Riskfolio-Lib) (1.3.5)\n",
            "Requirement already satisfied: numpy>=1.17.0 in /usr/local/lib/python3.7/dist-packages (from Riskfolio-Lib) (1.21.6)\n",
            "Requirement already satisfied: astropy>=4.3.1 in /usr/local/lib/python3.7/dist-packages (from Riskfolio-Lib) (4.3.1)\n",
            "Requirement already satisfied: arch>=4.15 in /usr/local/lib/python3.7/dist-packages (from Riskfolio-Lib) (5.2.0)\n",
            "Requirement already satisfied: property-cached>=1.6.4 in /usr/local/lib/python3.7/dist-packages (from arch>=4.15->Riskfolio-Lib) (1.6.4)\n",
            "Requirement already satisfied: importlib-metadata in /usr/local/lib/python3.7/dist-packages (from astropy>=4.3.1->Riskfolio-Lib) (4.11.3)\n",
            "Requirement already satisfied: pyerfa>=1.7.3 in /usr/local/lib/python3.7/dist-packages (from astropy>=4.3.1->Riskfolio-Lib) (2.0.0.1)\n",
            "Requirement already satisfied: ecos>=2 in /usr/local/lib/python3.7/dist-packages (from cvxpy>=1.0.25->Riskfolio-Lib) (2.0.10)\n",
            "Requirement already satisfied: multiprocess in /usr/local/lib/python3.7/dist-packages (from cvxpy>=1.0.25->Riskfolio-Lib) (0.70.12.2)\n",
            "Requirement already satisfied: scs>=1.1.3 in /usr/local/lib/python3.7/dist-packages (from cvxpy>=1.0.25->Riskfolio-Lib) (3.2.0)\n",
            "Requirement already satisfied: osqp>=0.4.1 in /usr/local/lib/python3.7/dist-packages (from cvxpy>=1.0.25->Riskfolio-Lib) (0.6.2.post0)\n",
            "Requirement already satisfied: fonttools>=4.22.0 in /usr/local/lib/python3.7/dist-packages (from matplotlib>=3.3.0->Riskfolio-Lib) (4.33.3)\n",
            "Requirement already satisfied: kiwisolver>=1.0.1 in /usr/local/lib/python3.7/dist-packages (from matplotlib>=3.3.0->Riskfolio-Lib) (1.4.2)\n",
            "Requirement already satisfied: pillow>=6.2.0 in /usr/local/lib/python3.7/dist-packages (from matplotlib>=3.3.0->Riskfolio-Lib) (7.1.2)\n",
            "Requirement already satisfied: cycler>=0.10 in /usr/local/lib/python3.7/dist-packages (from matplotlib>=3.3.0->Riskfolio-Lib) (0.11.0)\n",
            "Requirement already satisfied: pyparsing>=2.2.1 in /usr/local/lib/python3.7/dist-packages (from matplotlib>=3.3.0->Riskfolio-Lib) (3.0.9)\n",
            "Requirement already satisfied: python-dateutil>=2.7 in /usr/local/lib/python3.7/dist-packages (from matplotlib>=3.3.0->Riskfolio-Lib) (2.8.2)\n",
            "Requirement already satisfied: packaging>=20.0 in /usr/local/lib/python3.7/dist-packages (from matplotlib>=3.3.0->Riskfolio-Lib) (21.3)\n",
            "Requirement already satisfied: typing-extensions in /usr/local/lib/python3.7/dist-packages (from kiwisolver>=1.0.1->matplotlib>=3.3.0->Riskfolio-Lib) (4.2.0)\n",
            "Requirement already satisfied: qdldl in /usr/local/lib/python3.7/dist-packages (from osqp>=0.4.1->cvxpy>=1.0.25->Riskfolio-Lib) (0.1.5.post2)\n",
            "Requirement already satisfied: pytz>=2017.3 in /usr/local/lib/python3.7/dist-packages (from pandas>=1.0.0->Riskfolio-Lib) (2022.1)\n",
            "Requirement already satisfied: six>=1.5 in /usr/local/lib/python3.7/dist-packages (from python-dateutil>=2.7->matplotlib>=3.3.0->Riskfolio-Lib) (1.15.0)\n",
            "Requirement already satisfied: joblib>=0.11 in /usr/local/lib/python3.7/dist-packages (from scikit-learn>=0.22.0->Riskfolio-Lib) (1.1.0)\n",
            "Requirement already satisfied: threadpoolctl>=2.0.0 in /usr/local/lib/python3.7/dist-packages (from scikit-learn>=0.22.0->Riskfolio-Lib) (3.1.0)\n",
            "Requirement already satisfied: patsy>=0.5.2 in /usr/local/lib/python3.7/dist-packages (from statsmodels>=0.10.1->Riskfolio-Lib) (0.5.2)\n",
            "Requirement already satisfied: zipp>=0.5 in /usr/local/lib/python3.7/dist-packages (from importlib-metadata->astropy>=4.3.1->Riskfolio-Lib) (3.8.0)\n",
            "Requirement already satisfied: dill>=0.3.4 in /usr/local/lib/python3.7/dist-packages (from multiprocess->cvxpy>=1.0.25->Riskfolio-Lib) (0.3.5.1)\n"
          ]
        }
      ]
    },
    {
      "cell_type": "code",
      "execution_count": 2,
      "metadata": {
        "colab": {
          "base_uri": "https://localhost:8080/"
        },
        "id": "SEWy3llTY9bz",
        "outputId": "5826f182-d8f5-4cad-fbea-1188ea8df5ab"
      },
      "outputs": [
        {
          "output_type": "stream",
          "name": "stdout",
          "text": [
            "Drive already mounted at /content/drive; to attempt to forcibly remount, call drive.mount(\"/content/drive\", force_remount=True).\n",
            "/content/drive/My Drive/Colab Notebooks\n"
          ]
        }
      ],
      "source": [
        "from google.colab import drive\n",
        "drive.mount('/content/drive')\n",
        "\n",
        "%cd /content/drive/My Drive/Colab Notebooks"
      ]
    },
    {
      "cell_type": "code",
      "source": [
        "import numpy as np\n",
        "import pandas as pd\n",
        "import warnings\n",
        "import matplotlib.pyplot as plt\n",
        "import seaborn as sns\n",
        "\n",
        "import riskfolio as rp\n",
        "\n",
        "warnings.filterwarnings(\"ignore\")\n",
        "pd.options.display.float_format = '{:.4%}'.format"
      ],
      "metadata": {
        "id": "x7KJlE_WZJ6d"
      },
      "execution_count": 3,
      "outputs": []
    },
    {
      "cell_type": "code",
      "source": [
        "data = pd.read_csv('./data.csv')"
      ],
      "metadata": {
        "id": "B5RVgfxKZUUG"
      },
      "execution_count": 4,
      "outputs": []
    },
    {
      "cell_type": "markdown",
      "source": [
        "# Find N Ticker"
      ],
      "metadata": {
        "id": "NbmBkG4pdYrq"
      }
    },
    {
      "cell_type": "code",
      "source": [
        "assets = data.columns\n",
        "Y = data[assets].pct_change().dropna()"
      ],
      "metadata": {
        "id": "xBRZCYwadXm-"
      },
      "execution_count": 5,
      "outputs": []
    },
    {
      "cell_type": "code",
      "source": [
        "ax = rp.plot_dendrogram(returns=Y,\n",
        "                        codependence='pearson',\n",
        "                        linkage='single',\n",
        "                        k=None,\n",
        "                        max_k=10,\n",
        "                        leaf_order=True,\n",
        "                        ax=None)"
      ],
      "metadata": {
        "colab": {
          "base_uri": "https://localhost:8080/",
          "height": 325
        },
        "id": "CkQuKaK-dmg5",
        "outputId": "1cff7cf3-ee70-4f86-b52c-642ae06a9f14"
      },
      "execution_count": 6,
      "outputs": [
        {
          "output_type": "display_data",
          "data": {
            "text/plain": [
              "<Figure size 864x360 with 1 Axes>"
            ],
            "image/png": "[encoded data removed]"
          },
          "metadata": {
            "needs_background": "light"
          }
        }
      ]
    },
    {
      "cell_type": "code",
      "source": [
        "port = rp.HCPortfolio(returns=Y)\n",
        "model='HRP'\n",
        "codependence = 'pearson'\n",
        "rm = 'MV'\n",
        "rf = 0.0178\n",
        "linkage = 'single'\n",
        "max_k = 10\n",
        "leaf_order = True"
      ],
      "metadata": {
        "id": "kgBFfMagdpnP"
      },
      "execution_count": 7,
      "outputs": []
    },
    {
      "cell_type": "code",
      "source": [
        "w = port.optimization(model=model,\n",
        "                      codependence=codependence,\n",
        "                      rm=rm,\n",
        "                      rf=rf,\n",
        "                      linkage=linkage,\n",
        "                      max_k=max_k,\n",
        "                      leaf_order=leaf_order)\n",
        "\n",
        "display(w.T)"
      ],
      "metadata": {
        "colab": {
          "base_uri": "https://localhost:8080/",
          "height": 174
        },
        "id": "MVX3kh0Udrkd",
        "outputId": "c8656647-e8d1-4ee4-da76-f6466901e337"
      },
      "execution_count": 8,
      "outputs": [
        {
          "output_type": "display_data",
          "data": {
            "text/plain": [
              "         005930  000660  035420  035720  207940  005935  051910  006400  \\\n",
              "weights 0.0001% 0.0000% 0.0000% 0.0000% 0.0001% 0.0002% 0.0000% 0.0000%   \n",
              "\n",
              "         005380  068270  ...  078020  102710  314130  035890  032620  220630  \\\n",
              "weights 0.0001% 0.0000%  ... 0.0002% 0.0001% 0.0000% 0.0000% 0.0000% 0.0006%   \n",
              "\n",
              "         064260  287410  110790  099320  \n",
              "weights 0.0000% 0.0003% 0.0001% 0.0000%  \n",
              "\n",
              "[1 rows x 368 columns]"
            ],
            "text/html": [
              "\n",
              "  <div id=\"df-04794008-7077-4b6b-af4e-c692f89b8b10\">\n",
              "    <div class=\"colab-df-container\">\n",
              "      <div>\n",
              "<style scoped>\n",
              "    .dataframe tbody tr th:only-of-type {\n",
              "        vertical-align: middle;\n",
              "    }\n",
              "\n",
              "    .dataframe tbody tr th {\n",
              "        vertical-align: top;\n",
              "    }\n",
              "\n",
              "    .dataframe thead th {\n",
              "        text-align: right;\n",
              "    }\n",
              "</style>\n",
              "<table border=\"1\" class=\"dataframe\">\n",
              "  <thead>\n",
              "    <tr style=\"text-align: right;\">\n",
              "      <th></th>\n",
              "      <th>005930</th>\n",
              "      <th>000660</th>\n",
              "      <th>035420</th>\n",
              "      <th>035720</th>\n",
              "      <th>207940</th>\n",
              "      <th>005935</th>\n",
              "      <th>051910</th>\n",
              "      <th>006400</th>\n",
              "      <th>005380</th>\n",
              "      <th>068270</th>\n",
              "      <th>...</th>\n",
              "      <th>078020</th>\n",
              "      <th>102710</th>\n",
              "      <th>314130</th>\n",
              "      <th>035890</th>\n",
              "      <th>032620</th>\n",
              "      <th>220630</th>\n",
              "      <th>064260</th>\n",
              "      <th>287410</th>\n",
              "      <th>110790</th>\n",
              "      <th>099320</th>\n",
              "    </tr>\n",
              "  </thead>\n",
              "  <tbody>\n",
              "    <tr>\n",
              "      <th>weights</th>\n",
              "      <td>0.0001%</td>\n",
              "      <td>0.0000%</td>\n",
              "      <td>0.0000%</td>\n",
              "      <td>0.0000%</td>\n",
              "      <td>0.0001%</td>\n",
              "      <td>0.0002%</td>\n",
              "      <td>0.0000%</td>\n",
              "      <td>0.0000%</td>\n",
              "      <td>0.0001%</td>\n",
              "      <td>0.0000%</td>\n",
              "      <td>...</td>\n",
              "      <td>0.0002%</td>\n",
              "      <td>0.0001%</td>\n",
              "      <td>0.0000%</td>\n",
              "      <td>0.0000%</td>\n",
              "      <td>0.0000%</td>\n",
              "      <td>0.0006%</td>\n",
              "      <td>0.0000%</td>\n",
              "      <td>0.0003%</td>\n",
              "      <td>0.0001%</td>\n",
              "      <td>0.0000%</td>\n",
              "    </tr>\n",
              "  </tbody>\n",
              "</table>\n",
              "<p>1 rows × 368 columns</p>\n",
              "</div>\n",
              "      <button class=\"colab-df-convert\" onclick=\"convertToInteractive('df-04794008-7077-4b6b-af4e-c692f89b8b10')\"\n",
              "              title=\"Convert this dataframe to an interactive table.\"\n",
              "              style=\"display:none;\">\n",
              "        \n",
              "  <svg xmlns=\"http://www.w3.org/2000/svg\" height=\"24px\"viewBox=\"0 0 24 24\"\n",
              "       width=\"24px\">\n",
              "    <path d=\"M0 0h24v24H0V0z\" fill=\"none\"/>\n",
              "    <path d=\"M18.56 5.44l.94 2.06.94-2.06 2.06-.94-2.06-.94-.94-2.06-.94 2.06-2.06.94zm-11 1L8.5 8.5l.94-2.06 2.06-.94-2.06-.94L8.5 2.5l-.94 2.06-2.06.94zm10 10l.94 2.06.94-2.06 2.06-.94-2.06-.94-.94-2.06-.94 2.06-2.06.94z\"/><path d=\"M17.41 7.96l-1.37-1.37c-.4-.4-.92-.59-1.43-.59-.52 0-1.04.2-1.43.59L10.3 9.45l-7.72 7.72c-.78.78-.78 2.05 0 2.83L4 21.41c.39.39.9.59 1.41.59.51 0 1.02-.2 1.41-.59l7.78-7.78 2.81-2.81c.8-.78.8-2.07 0-2.86zM5.41 20L4 18.59l7.72-7.72 1.47 1.35L5.41 20z\"/>\n",
              "  </svg>\n",
              "      </button>\n",
              "      \n",
              "  <style>\n",
              "    .colab-df-container {\n",
              "      display:flex;\n",
              "      flex-wrap:wrap;\n",
              "      gap: 12px;\n",
              "    }\n",
              "\n",
              "    .colab-df-convert {\n",
              "      background-color: #E8F0FE;\n",
              "      border: none;\n",
              "      border-radius: 50%;\n",
              "      cursor: pointer;\n",
              "      display: none;\n",
              "      fill: #1967D2;\n",
              "      height: 32px;\n",
              "      padding: 0 0 0 0;\n",
              "      width: 32px;\n",
              "    }\n",
              "\n",
              "    .colab-df-convert:hover {\n",
              "      background-color: #E2EBFA;\n",
              "      box-shadow: 0px 1px 2px rgba(60, 64, 67, 0.3), 0px 1px 3px 1px rgba(60, 64, 67, 0.15);\n",
              "      fill: #174EA6;\n",
              "    }\n",
              "\n",
              "    [theme=dark] .colab-df-convert {\n",
              "      background-color: #3B4455;\n",
              "      fill: #D2E3FC;\n",
              "    }\n",
              "\n",
              "    [theme=dark] .colab-df-convert:hover {\n",
              "      background-color: #434B5C;\n",
              "      box-shadow: 0px 1px 3px 1px rgba(0, 0, 0, 0.15);\n",
              "      filter: drop-shadow(0px 1px 2px rgba(0, 0, 0, 0.3));\n",
              "      fill: #FFFFFF;\n",
              "    }\n",
              "  </style>\n",
              "\n",
              "      <script>\n",
              "        const buttonEl =\n",
              "          document.querySelector('#df-04794008-7077-4b6b-af4e-c692f89b8b10 button.colab-df-convert');\n",
              "        buttonEl.style.display =\n",
              "          google.colab.kernel.accessAllowed ? 'block' : 'none';\n",
              "\n",
              "        async function convertToInteractive(key) {\n",
              "          const element = document.querySelector('#df-04794008-7077-4b6b-af4e-c692f89b8b10');\n",
              "          const dataTable =\n",
              "            await google.colab.kernel.invokeFunction('convertToInteractive',\n",
              "                                                     [key], {});\n",
              "          if (!dataTable) return;\n",
              "\n",
              "          const docLinkHtml = 'Like what you see? Visit the ' +\n",
              "            '<a target=\"_blank\" href=https://colab.research.google.com/notebooks/data_table.ipynb>data table notebook</a>'\n",
              "            + ' to learn more about interactive tables.';\n",
              "          element.innerHTML = '';\n",
              "          dataTable['output_type'] = 'display_data';\n",
              "          await google.colab.output.renderOutput(dataTable, element);\n",
              "          const docLink = document.createElement('div');\n",
              "          docLink.innerHTML = docLinkHtml;\n",
              "          element.appendChild(docLink);\n",
              "        }\n",
              "      </script>\n",
              "    </div>\n",
              "  </div>\n",
              "  "
            ]
          },
          "metadata": {}
        }
      ]
    },
    {
      "cell_type": "code",
      "source": [
        "w['filter'] = w['weights']>0.0004\n",
        "w_ = w.loc[w['filter']==True]\n",
        "w_"
      ],
      "metadata": {
        "colab": {
          "base_uri": "https://localhost:8080/",
          "height": 206
        },
        "id": "3jTj7kVUb6N-",
        "outputId": "e4799f16-43c6-487a-cb46-32438765f32e"
      },
      "execution_count": 19,
      "outputs": [
        {
          "output_type": "execute_result",
          "data": {
            "text/plain": [
              "        weights  filter\n",
              "033780  1.6457%    True\n",
              "030200  0.6055%    True\n",
              "078930  0.6849%    True\n",
              "153130 49.8890%    True\n",
              "214980 47.1748%    True"
            ],
            "text/html": [
              "\n",
              "  <div id=\"df-e7c8941e-44d1-4faa-86b7-4286ba6b6d39\">\n",
              "    <div class=\"colab-df-container\">\n",
              "      <div>\n",
              "<style scoped>\n",
              "    .dataframe tbody tr th:only-of-type {\n",
              "        vertical-align: middle;\n",
              "    }\n",
              "\n",
              "    .dataframe tbody tr th {\n",
              "        vertical-align: top;\n",
              "    }\n",
              "\n",
              "    .dataframe thead th {\n",
              "        text-align: right;\n",
              "    }\n",
              "</style>\n",
              "<table border=\"1\" class=\"dataframe\">\n",
              "  <thead>\n",
              "    <tr style=\"text-align: right;\">\n",
              "      <th></th>\n",
              "      <th>weights</th>\n",
              "      <th>filter</th>\n",
              "    </tr>\n",
              "  </thead>\n",
              "  <tbody>\n",
              "    <tr>\n",
              "      <th>033780</th>\n",
              "      <td>1.6457%</td>\n",
              "      <td>True</td>\n",
              "    </tr>\n",
              "    <tr>\n",
              "      <th>030200</th>\n",
              "      <td>0.6055%</td>\n",
              "      <td>True</td>\n",
              "    </tr>\n",
              "    <tr>\n",
              "      <th>078930</th>\n",
              "      <td>0.6849%</td>\n",
              "      <td>True</td>\n",
              "    </tr>\n",
              "    <tr>\n",
              "      <th>153130</th>\n",
              "      <td>49.8890%</td>\n",
              "      <td>True</td>\n",
              "    </tr>\n",
              "    <tr>\n",
              "      <th>214980</th>\n",
              "      <td>47.1748%</td>\n",
              "      <td>True</td>\n",
              "    </tr>\n",
              "  </tbody>\n",
              "</table>\n",
              "</div>\n",
              "      <button class=\"colab-df-convert\" onclick=\"convertToInteractive('df-e7c8941e-44d1-4faa-86b7-4286ba6b6d39')\"\n",
              "              title=\"Convert this dataframe to an interactive table.\"\n",
              "              style=\"display:none;\">\n",
              "        \n",
              "  <svg xmlns=\"http://www.w3.org/2000/svg\" height=\"24px\"viewBox=\"0 0 24 24\"\n",
              "       width=\"24px\">\n",
              "    <path d=\"M0 0h24v24H0V0z\" fill=\"none\"/>\n",
              "    <path d=\"M18.56 5.44l.94 2.06.94-2.06 2.06-.94-2.06-.94-.94-2.06-.94 2.06-2.06.94zm-11 1L8.5 8.5l.94-2.06 2.06-.94-2.06-.94L8.5 2.5l-.94 2.06-2.06.94zm10 10l.94 2.06.94-2.06 2.06-.94-2.06-.94-.94-2.06-.94 2.06-2.06.94z\"/><path d=\"M17.41 7.96l-1.37-1.37c-.4-.4-.92-.59-1.43-.59-.52 0-1.04.2-1.43.59L10.3 9.45l-7.72 7.72c-.78.78-.78 2.05 0 2.83L4 21.41c.39.39.9.59 1.41.59.51 0 1.02-.2 1.41-.59l7.78-7.78 2.81-2.81c.8-.78.8-2.07 0-2.86zM5.41 20L4 18.59l7.72-7.72 1.47 1.35L5.41 20z\"/>\n",
              "  </svg>\n",
              "      </button>\n",
              "      \n",
              "  <style>\n",
              "    .colab-df-container {\n",
              "      display:flex;\n",
              "      flex-wrap:wrap;\n",
              "      gap: 12px;\n",
              "    }\n",
              "\n",
              "    .colab-df-convert {\n",
              "      background-color: #E8F0FE;\n",
              "      border: none;\n",
              "      border-radius: 50%;\n",
              "      cursor: pointer;\n",
              "      display: none;\n",
              "      fill: #1967D2;\n",
              "      height: 32px;\n",
              "      padding: 0 0 0 0;\n",
              "      width: 32px;\n",
              "    }\n",
              "\n",
              "    .colab-df-convert:hover {\n",
              "      background-color: #E2EBFA;\n",
              "      box-shadow: 0px 1px 2px rgba(60, 64, 67, 0.3), 0px 1px 3px 1px rgba(60, 64, 67, 0.15);\n",
              "      fill: #174EA6;\n",
              "    }\n",
              "\n",
              "    [theme=dark] .colab-df-convert {\n",
              "      background-color: #3B4455;\n",
              "      fill: #D2E3FC;\n",
              "    }\n",
              "\n",
              "    [theme=dark] .colab-df-convert:hover {\n",
              "      background-color: #434B5C;\n",
              "      box-shadow: 0px 1px 3px 1px rgba(0, 0, 0, 0.15);\n",
              "      filter: drop-shadow(0px 1px 2px rgba(0, 0, 0, 0.3));\n",
              "      fill: #FFFFFF;\n",
              "    }\n",
              "  </style>\n",
              "\n",
              "      <script>\n",
              "        const buttonEl =\n",
              "          document.querySelector('#df-e7c8941e-44d1-4faa-86b7-4286ba6b6d39 button.colab-df-convert');\n",
              "        buttonEl.style.display =\n",
              "          google.colab.kernel.accessAllowed ? 'block' : 'none';\n",
              "\n",
              "        async function convertToInteractive(key) {\n",
              "          const element = document.querySelector('#df-e7c8941e-44d1-4faa-86b7-4286ba6b6d39');\n",
              "          const dataTable =\n",
              "            await google.colab.kernel.invokeFunction('convertToInteractive',\n",
              "                                                     [key], {});\n",
              "          if (!dataTable) return;\n",
              "\n",
              "          const docLinkHtml = 'Like what you see? Visit the ' +\n",
              "            '<a target=\"_blank\" href=https://colab.research.google.com/notebooks/data_table.ipynb>data table notebook</a>'\n",
              "            + ' to learn more about interactive tables.';\n",
              "          element.innerHTML = '';\n",
              "          dataTable['output_type'] = 'display_data';\n",
              "          await google.colab.output.renderOutput(dataTable, element);\n",
              "          const docLink = document.createElement('div');\n",
              "          docLink.innerHTML = docLinkHtml;\n",
              "          element.appendChild(docLink);\n",
              "        }\n",
              "      </script>\n",
              "    </div>\n",
              "  </div>\n",
              "  "
            ]
          },
          "metadata": {},
          "execution_count": 19
        }
      ]
    },
    {
      "cell_type": "markdown",
      "source": [
        "# Portfolio Allocation"
      ],
      "metadata": {
        "id": "-8WeQK7NeQmc"
      }
    },
    {
      "cell_type": "code",
      "source": [
        "assets = ['033780', '030200', '078930', '153130', '214980'] #data.columns\n",
        "Y = data[assets].pct_change().dropna()"
      ],
      "metadata": {
        "id": "bMNwI7igZeNc"
      },
      "execution_count": 10,
      "outputs": []
    },
    {
      "cell_type": "code",
      "source": [
        "ax = rp.plot_dendrogram(returns=Y,\n",
        "                        codependence='pearson',\n",
        "                        linkage='single',\n",
        "                        k=None,\n",
        "                        max_k=10,\n",
        "                        leaf_order=True,\n",
        "                        ax=None)"
      ],
      "metadata": {
        "colab": {
          "base_uri": "https://localhost:8080/",
          "height": 325
        },
        "id": "QRwvsIDcaGre",
        "outputId": "91db3e9f-279e-4902-c1ed-f276d2040dc9"
      },
      "execution_count": 11,
      "outputs": [
        {
          "output_type": "display_data",
          "data": {
            "text/plain": [
              "<Figure size 864x360 with 1 Axes>"
            ],
            "image/png": "[encoded data removed]"
          },
          "metadata": {
            "needs_background": "light"
          }
        }
      ]
    },
    {
      "cell_type": "code",
      "source": [
        "port = rp.HCPortfolio(returns=Y)\n",
        "model='HRP'\n",
        "codependence = 'pearson'\n",
        "rm = 'MV'\n",
        "rf = 0.0178\n",
        "linkage = 'single'\n",
        "max_k = 10\n",
        "leaf_order = True"
      ],
      "metadata": {
        "id": "zXf70lK5aLAe"
      },
      "execution_count": 12,
      "outputs": []
    },
    {
      "cell_type": "code",
      "source": [
        "w = port.optimization(model=model,\n",
        "                      codependence=codependence,\n",
        "                      rm=rm,\n",
        "                      rf=rf,\n",
        "                      linkage=linkage,\n",
        "                      max_k=max_k,\n",
        "                      leaf_order=leaf_order)\n",
        "\n",
        "display(w.T)"
      ],
      "metadata": {
        "colab": {
          "base_uri": "https://localhost:8080/",
          "height": 81
        },
        "id": "w5LWtQ--ajJZ",
        "outputId": "644aa43b-09ab-4d9d-e677-2c894b15663a"
      },
      "execution_count": 13,
      "outputs": [
        {
          "output_type": "display_data",
          "data": {
            "text/plain": [
              "         033780  030200  078930   153130   214980\n",
              "weights 0.0219% 0.0033% 0.0038% 57.4842% 42.4868%"
            ],
            "text/html": [
              "\n",
              "  <div id=\"df-ad9ee7da-1403-4c26-ae3d-61a4ca5856e2\">\n",
              "    <div class=\"colab-df-container\">\n",
              "      <div>\n",
              "<style scoped>\n",
              "    .dataframe tbody tr th:only-of-type {\n",
              "        vertical-align: middle;\n",
              "    }\n",
              "\n",
              "    .dataframe tbody tr th {\n",
              "        vertical-align: top;\n",
              "    }\n",
              "\n",
              "    .dataframe thead th {\n",
              "        text-align: right;\n",
              "    }\n",
              "</style>\n",
              "<table border=\"1\" class=\"dataframe\">\n",
              "  <thead>\n",
              "    <tr style=\"text-align: right;\">\n",
              "      <th></th>\n",
              "      <th>033780</th>\n",
              "      <th>030200</th>\n",
              "      <th>078930</th>\n",
              "      <th>153130</th>\n",
              "      <th>214980</th>\n",
              "    </tr>\n",
              "  </thead>\n",
              "  <tbody>\n",
              "    <tr>\n",
              "      <th>weights</th>\n",
              "      <td>0.0219%</td>\n",
              "      <td>0.0033%</td>\n",
              "      <td>0.0038%</td>\n",
              "      <td>57.4842%</td>\n",
              "      <td>42.4868%</td>\n",
              "    </tr>\n",
              "  </tbody>\n",
              "</table>\n",
              "</div>\n",
              "      <button class=\"colab-df-convert\" onclick=\"convertToInteractive('df-ad9ee7da-1403-4c26-ae3d-61a4ca5856e2')\"\n",
              "              title=\"Convert this dataframe to an interactive table.\"\n",
              "              style=\"display:none;\">\n",
              "        \n",
              "  <svg xmlns=\"http://www.w3.org/2000/svg\" height=\"24px\"viewBox=\"0 0 24 24\"\n",
              "       width=\"24px\">\n",
              "    <path d=\"M0 0h24v24H0V0z\" fill=\"none\"/>\n",
              "    <path d=\"M18.56 5.44l.94 2.06.94-2.06 2.06-.94-2.06-.94-.94-2.06-.94 2.06-2.06.94zm-11 1L8.5 8.5l.94-2.06 2.06-.94-2.06-.94L8.5 2.5l-.94 2.06-2.06.94zm10 10l.94 2.06.94-2.06 2.06-.94-2.06-.94-.94-2.06-.94 2.06-2.06.94z\"/><path d=\"M17.41 7.96l-1.37-1.37c-.4-.4-.92-.59-1.43-.59-.52 0-1.04.2-1.43.59L10.3 9.45l-7.72 7.72c-.78.78-.78 2.05 0 2.83L4 21.41c.39.39.9.59 1.41.59.51 0 1.02-.2 1.41-.59l7.78-7.78 2.81-2.81c.8-.78.8-2.07 0-2.86zM5.41 20L4 18.59l7.72-7.72 1.47 1.35L5.41 20z\"/>\n",
              "  </svg>\n",
              "      </button>\n",
              "      \n",
              "  <style>\n",
              "    .colab-df-container {\n",
              "      display:flex;\n",
              "      flex-wrap:wrap;\n",
              "      gap: 12px;\n",
              "    }\n",
              "\n",
              "    .colab-df-convert {\n",
              "      background-color: #E8F0FE;\n",
              "      border: none;\n",
              "      border-radius: 50%;\n",
              "      cursor: pointer;\n",
              "      display: none;\n",
              "      fill: #1967D2;\n",
              "      height: 32px;\n",
              "      padding: 0 0 0 0;\n",
              "      width: 32px;\n",
              "    }\n",
              "\n",
              "    .colab-df-convert:hover {\n",
              "      background-color: #E2EBFA;\n",
              "      box-shadow: 0px 1px 2px rgba(60, 64, 67, 0.3), 0px 1px 3px 1px rgba(60, 64, 67, 0.15);\n",
              "      fill: #174EA6;\n",
              "    }\n",
              "\n",
              "    [theme=dark] .colab-df-convert {\n",
              "      background-color: #3B4455;\n",
              "      fill: #D2E3FC;\n",
              "    }\n",
              "\n",
              "    [theme=dark] .colab-df-convert:hover {\n",
              "      background-color: #434B5C;\n",
              "      box-shadow: 0px 1px 3px 1px rgba(0, 0, 0, 0.15);\n",
              "      filter: drop-shadow(0px 1px 2px rgba(0, 0, 0, 0.3));\n",
              "      fill: #FFFFFF;\n",
              "    }\n",
              "  </style>\n",
              "\n",
              "      <script>\n",
              "        const buttonEl =\n",
              "          document.querySelector('#df-ad9ee7da-1403-4c26-ae3d-61a4ca5856e2 button.colab-df-convert');\n",
              "        buttonEl.style.display =\n",
              "          google.colab.kernel.accessAllowed ? 'block' : 'none';\n",
              "\n",
              "        async function convertToInteractive(key) {\n",
              "          const element = document.querySelector('#df-ad9ee7da-1403-4c26-ae3d-61a4ca5856e2');\n",
              "          const dataTable =\n",
              "            await google.colab.kernel.invokeFunction('convertToInteractive',\n",
              "                                                     [key], {});\n",
              "          if (!dataTable) return;\n",
              "\n",
              "          const docLinkHtml = 'Like what you see? Visit the ' +\n",
              "            '<a target=\"_blank\" href=https://colab.research.google.com/notebooks/data_table.ipynb>data table notebook</a>'\n",
              "            + ' to learn more about interactive tables.';\n",
              "          element.innerHTML = '';\n",
              "          dataTable['output_type'] = 'display_data';\n",
              "          await google.colab.output.renderOutput(dataTable, element);\n",
              "          const docLink = document.createElement('div');\n",
              "          docLink.innerHTML = docLinkHtml;\n",
              "          element.appendChild(docLink);\n",
              "        }\n",
              "      </script>\n",
              "    </div>\n",
              "  </div>\n",
              "  "
            ]
          },
          "metadata": {}
        }
      ]
    },
    {
      "cell_type": "code",
      "source": [
        "ax = rp.plot_pie(w=w,\n",
        "                 title='HRP Naive Risk Parity',\n",
        "                 others=0.05,\n",
        "                 nrow=25,\n",
        "                 cmap=\"tab20\",\n",
        "                 height=8,\n",
        "                 width=10,\n",
        "                 ax=None)"
      ],
      "metadata": {
        "colab": {
          "base_uri": "https://localhost:8080/",
          "height": 585
        },
        "id": "Egu9Ykmnajod",
        "outputId": "aefa5fd1-7701-4eaf-a326-d7c011882d82"
      },
      "execution_count": 14,
      "outputs": [
        {
          "output_type": "display_data",
          "data": {
            "text/plain": [
              "<Figure size 720x576 with 1 Axes>"
            ],
            "image/png": "[encoded data removed]"
          },
          "metadata": {}
        }
      ]
    },
    {
      "cell_type": "code",
      "source": [
        "mu = Y.mean()\n",
        "cov = Y.cov() # Covariance matrix\n",
        "returns = Y # Returns of the assets\n",
        "\n",
        "ax = rp.plot_risk_con(w=w,\n",
        "                      cov=cov,\n",
        "                      returns=returns,\n",
        "                      rm=rm,\n",
        "                      rf=0,\n",
        "                      alpha=0.05,\n",
        "                      color=\"tab:blue\",\n",
        "                      height=6,\n",
        "                      width=10,\n",
        "                      t_factor=252,\n",
        "                      ax=None)"
      ],
      "metadata": {
        "colab": {
          "base_uri": "https://localhost:8080/",
          "height": 441
        },
        "id": "UfY0IjSCaq1p",
        "outputId": "c0a76439-cf09-46df-859e-6ac77c5f9536"
      },
      "execution_count": 15,
      "outputs": [
        {
          "output_type": "display_data",
          "data": {
            "text/plain": [
              "<Figure size 720x432 with 1 Axes>"
            ],
            "image/png": "[encoded data removed]"
          },
          "metadata": {
            "needs_background": "light"
          }
        }
      ]
    },
    {
      "cell_type": "code",
      "source": [
        "rms = ['vol', 'MV', 'MAD', 'MSV', 'FLPM', 'SLPM',\n",
        "       'VaR','CVaR', 'EVaR', 'WR', 'MDD', 'ADD',\n",
        "       'DaR', 'CDaR', 'EDaR', 'UCI', 'MDD_Rel', 'ADD_Rel',\n",
        "       'DaR_Rel', 'CDaR_Rel', 'EDaR_Rel', 'UCI_Rel']\n",
        "\n",
        "w_s = pd.DataFrame([])\n",
        "\n",
        "for i in rms:\n",
        "    w = port.optimization(model=model,\n",
        "                          correlation=codependence,\n",
        "                          rm=i,\n",
        "                          rf=rf,\n",
        "                          linkage=linkage,\n",
        "                          max_k=max_k,\n",
        "                          leaf_order=leaf_order)\n",
        "\n",
        "    w_s = pd.concat([w_s, w], axis=1)\n",
        "    \n",
        "w_s.columns = rms\n",
        "w_s.style.format(\"{:.2%}\").background_gradient(cmap='YlGn')"
      ],
      "metadata": {
        "colab": {
          "base_uri": "https://localhost:8080/",
          "height": 226
        },
        "id": "SmDX5p7AaxiM",
        "outputId": "7fb7b5b0-19de-4583-8a14-204cd496b048"
      },
      "execution_count": 16,
      "outputs": [
        {
          "output_type": "execute_result",
          "data": {
            "text/plain": [
              "<pandas.io.formats.style.Styler at 0x7f612d443710>"
            ],
            "text/html": [
              "<style type=\"text/css\">\n",
              "#T_a29a6_row0_col0, #T_a29a6_row0_col10, #T_a29a6_row0_col16 {\n",
              "  background-color: #feffe2;\n",
              "  color: #000000;\n",
              "}\n",
              "#T_a29a6_row0_col1, #T_a29a6_row0_col4, #T_a29a6_row1_col0, #T_a29a6_row1_col1, #T_a29a6_row1_col2, #T_a29a6_row1_col3, #T_a29a6_row1_col4, #T_a29a6_row1_col5, #T_a29a6_row1_col6, #T_a29a6_row1_col7, #T_a29a6_row1_col8, #T_a29a6_row1_col9, #T_a29a6_row1_col10, #T_a29a6_row1_col11, #T_a29a6_row1_col12, #T_a29a6_row1_col13, #T_a29a6_row1_col14, #T_a29a6_row1_col15, #T_a29a6_row1_col16, #T_a29a6_row1_col17, #T_a29a6_row1_col18, #T_a29a6_row1_col19, #T_a29a6_row1_col20, #T_a29a6_row1_col21, #T_a29a6_row2_col0, #T_a29a6_row2_col1, #T_a29a6_row2_col2, #T_a29a6_row2_col3, #T_a29a6_row2_col6, #T_a29a6_row2_col7, #T_a29a6_row2_col8, #T_a29a6_row2_col10, #T_a29a6_row2_col11, #T_a29a6_row2_col12, #T_a29a6_row2_col13, #T_a29a6_row2_col14, #T_a29a6_row2_col15, #T_a29a6_row2_col16, #T_a29a6_row2_col17, #T_a29a6_row2_col18, #T_a29a6_row2_col19, #T_a29a6_row2_col20, #T_a29a6_row2_col21 {\n",
              "  background-color: #ffffe5;\n",
              "  color: #000000;\n",
              "}\n",
              "#T_a29a6_row0_col2, #T_a29a6_row0_col3, #T_a29a6_row0_col6, #T_a29a6_row0_col7, #T_a29a6_row0_col8, #T_a29a6_row0_col9, #T_a29a6_row2_col9 {\n",
              "  background-color: #ffffe4;\n",
              "  color: #000000;\n",
              "}\n",
              "#T_a29a6_row0_col5 {\n",
              "  background-color: #f0f9b4;\n",
              "  color: #000000;\n",
              "}\n",
              "#T_a29a6_row0_col11, #T_a29a6_row0_col12, #T_a29a6_row0_col17, #T_a29a6_row0_col18 {\n",
              "  background-color: #feffdf;\n",
              "  color: #000000;\n",
              "}\n",
              "#T_a29a6_row0_col13, #T_a29a6_row0_col14, #T_a29a6_row0_col19, #T_a29a6_row0_col20 {\n",
              "  background-color: #feffe1;\n",
              "  color: #000000;\n",
              "}\n",
              "#T_a29a6_row0_col15, #T_a29a6_row0_col21 {\n",
              "  background-color: #feffde;\n",
              "  color: #000000;\n",
              "}\n",
              "#T_a29a6_row2_col4, #T_a29a6_row3_col0, #T_a29a6_row3_col1, #T_a29a6_row3_col2, #T_a29a6_row3_col3, #T_a29a6_row3_col5, #T_a29a6_row3_col7, #T_a29a6_row3_col8, #T_a29a6_row3_col9, #T_a29a6_row3_col10, #T_a29a6_row3_col12, #T_a29a6_row3_col13, #T_a29a6_row3_col14, #T_a29a6_row3_col15, #T_a29a6_row3_col16, #T_a29a6_row3_col18, #T_a29a6_row3_col19, #T_a29a6_row3_col20, #T_a29a6_row3_col21, #T_a29a6_row4_col5, #T_a29a6_row4_col6, #T_a29a6_row4_col11, #T_a29a6_row4_col17 {\n",
              "  background-color: #004529;\n",
              "  color: #f1f1f1;\n",
              "}\n",
              "#T_a29a6_row2_col5 {\n",
              "  background-color: #1c7e40;\n",
              "  color: #f1f1f1;\n",
              "}\n",
              "#T_a29a6_row3_col4, #T_a29a6_row3_col11, #T_a29a6_row3_col17, #T_a29a6_row4_col4 {\n",
              "  background-color: #006034;\n",
              "  color: #f1f1f1;\n",
              "}\n",
              "#T_a29a6_row3_col6 {\n",
              "  background-color: #004629;\n",
              "  color: #f1f1f1;\n",
              "}\n",
              "#T_a29a6_row4_col0 {\n",
              "  background-color: #056c39;\n",
              "  color: #f1f1f1;\n",
              "}\n",
              "#T_a29a6_row4_col1 {\n",
              "  background-color: #258745;\n",
              "  color: #f1f1f1;\n",
              "}\n",
              "#T_a29a6_row4_col2 {\n",
              "  background-color: #005c32;\n",
              "  color: #f1f1f1;\n",
              "}\n",
              "#T_a29a6_row4_col3 {\n",
              "  background-color: #13773d;\n",
              "  color: #f1f1f1;\n",
              "}\n",
              "#T_a29a6_row4_col7 {\n",
              "  background-color: #167a3f;\n",
              "  color: #f1f1f1;\n",
              "}\n",
              "#T_a29a6_row4_col8 {\n",
              "  background-color: #379e54;\n",
              "  color: #f1f1f1;\n",
              "}\n",
              "#T_a29a6_row4_col9 {\n",
              "  background-color: #2f934d;\n",
              "  color: #f1f1f1;\n",
              "}\n",
              "#T_a29a6_row4_col10, #T_a29a6_row4_col16 {\n",
              "  background-color: #288a47;\n",
              "  color: #f1f1f1;\n",
              "}\n",
              "#T_a29a6_row4_col12, #T_a29a6_row4_col18 {\n",
              "  background-color: #016937;\n",
              "  color: #f1f1f1;\n",
              "}\n",
              "#T_a29a6_row4_col13, #T_a29a6_row4_col19 {\n",
              "  background-color: #1d7f41;\n",
              "  color: #f1f1f1;\n",
              "}\n",
              "#T_a29a6_row4_col14, #T_a29a6_row4_col20 {\n",
              "  background-color: #238443;\n",
              "  color: #f1f1f1;\n",
              "}\n",
              "#T_a29a6_row4_col15, #T_a29a6_row4_col21 {\n",
              "  background-color: #00542f;\n",
              "  color: #f1f1f1;\n",
              "}\n",
              "</style>\n",
              "<table id=\"T_a29a6_\" class=\"dataframe\">\n",
              "  <thead>\n",
              "    <tr>\n",
              "      <th class=\"blank level0\" >&nbsp;</th>\n",
              "      <th class=\"col_heading level0 col0\" >vol</th>\n",
              "      <th class=\"col_heading level0 col1\" >MV</th>\n",
              "      <th class=\"col_heading level0 col2\" >MAD</th>\n",
              "      <th class=\"col_heading level0 col3\" >MSV</th>\n",
              "      <th class=\"col_heading level0 col4\" >FLPM</th>\n",
              "      <th class=\"col_heading level0 col5\" >SLPM</th>\n",
              "      <th class=\"col_heading level0 col6\" >VaR</th>\n",
              "      <th class=\"col_heading level0 col7\" >CVaR</th>\n",
              "      <th class=\"col_heading level0 col8\" >EVaR</th>\n",
              "      <th class=\"col_heading level0 col9\" >WR</th>\n",
              "      <th class=\"col_heading level0 col10\" >MDD</th>\n",
              "      <th class=\"col_heading level0 col11\" >ADD</th>\n",
              "      <th class=\"col_heading level0 col12\" >DaR</th>\n",
              "      <th class=\"col_heading level0 col13\" >CDaR</th>\n",
              "      <th class=\"col_heading level0 col14\" >EDaR</th>\n",
              "      <th class=\"col_heading level0 col15\" >UCI</th>\n",
              "      <th class=\"col_heading level0 col16\" >MDD_Rel</th>\n",
              "      <th class=\"col_heading level0 col17\" >ADD_Rel</th>\n",
              "      <th class=\"col_heading level0 col18\" >DaR_Rel</th>\n",
              "      <th class=\"col_heading level0 col19\" >CDaR_Rel</th>\n",
              "      <th class=\"col_heading level0 col20\" >EDaR_Rel</th>\n",
              "      <th class=\"col_heading level0 col21\" >UCI_Rel</th>\n",
              "    </tr>\n",
              "  </thead>\n",
              "  <tbody>\n",
              "    <tr>\n",
              "      <th id=\"T_a29a6_level0_row0\" class=\"row_heading level0 row0\" >033780</th>\n",
              "      <td id=\"T_a29a6_row0_col0\" class=\"data row0 col0\" >0.70%</td>\n",
              "      <td id=\"T_a29a6_row0_col1\" class=\"data row0 col1\" >0.02%</td>\n",
              "      <td id=\"T_a29a6_row0_col2\" class=\"data row0 col2\" >0.62%</td>\n",
              "      <td id=\"T_a29a6_row0_col3\" class=\"data row0 col3\" >0.68%</td>\n",
              "      <td id=\"T_a29a6_row0_col4\" class=\"data row0 col4\" >13.25%</td>\n",
              "      <td id=\"T_a29a6_row0_col5\" class=\"data row0 col5\" >14.16%</td>\n",
              "      <td id=\"T_a29a6_row0_col6\" class=\"data row0 col6\" >0.69%</td>\n",
              "      <td id=\"T_a29a6_row0_col7\" class=\"data row0 col7\" >0.66%</td>\n",
              "      <td id=\"T_a29a6_row0_col8\" class=\"data row0 col8\" >0.68%</td>\n",
              "      <td id=\"T_a29a6_row0_col9\" class=\"data row0 col9\" >0.68%</td>\n",
              "      <td id=\"T_a29a6_row0_col10\" class=\"data row0 col10\" >1.23%</td>\n",
              "      <td id=\"T_a29a6_row0_col11\" class=\"data row0 col11\" >1.35%</td>\n",
              "      <td id=\"T_a29a6_row0_col12\" class=\"data row0 col12\" >1.59%</td>\n",
              "      <td id=\"T_a29a6_row0_col13\" class=\"data row0 col13\" >1.41%</td>\n",
              "      <td id=\"T_a29a6_row0_col14\" class=\"data row0 col14\" >1.34%</td>\n",
              "      <td id=\"T_a29a6_row0_col15\" class=\"data row0 col15\" >1.64%</td>\n",
              "      <td id=\"T_a29a6_row0_col16\" class=\"data row0 col16\" >1.24%</td>\n",
              "      <td id=\"T_a29a6_row0_col17\" class=\"data row0 col17\" >1.35%</td>\n",
              "      <td id=\"T_a29a6_row0_col18\" class=\"data row0 col18\" >1.56%</td>\n",
              "      <td id=\"T_a29a6_row0_col19\" class=\"data row0 col19\" >1.41%</td>\n",
              "      <td id=\"T_a29a6_row0_col20\" class=\"data row0 col20\" >1.35%</td>\n",
              "      <td id=\"T_a29a6_row0_col21\" class=\"data row0 col21\" >1.65%</td>\n",
              "    </tr>\n",
              "    <tr>\n",
              "      <th id=\"T_a29a6_level0_row1\" class=\"row_heading level0 row1\" >030200</th>\n",
              "      <td id=\"T_a29a6_row1_col0\" class=\"data row1 col0\" >0.27%</td>\n",
              "      <td id=\"T_a29a6_row1_col1\" class=\"data row1 col1\" >0.00%</td>\n",
              "      <td id=\"T_a29a6_row1_col2\" class=\"data row1 col2\" >0.24%</td>\n",
              "      <td id=\"T_a29a6_row1_col3\" class=\"data row1 col3\" >0.29%</td>\n",
              "      <td id=\"T_a29a6_row1_col4\" class=\"data row1 col4\" >13.25%</td>\n",
              "      <td id=\"T_a29a6_row1_col5\" class=\"data row1 col5\" >12.07%</td>\n",
              "      <td id=\"T_a29a6_row1_col6\" class=\"data row1 col6\" >0.31%</td>\n",
              "      <td id=\"T_a29a6_row1_col7\" class=\"data row1 col7\" >0.34%</td>\n",
              "      <td id=\"T_a29a6_row1_col8\" class=\"data row1 col8\" >0.37%</td>\n",
              "      <td id=\"T_a29a6_row1_col9\" class=\"data row1 col9\" >0.40%</td>\n",
              "      <td id=\"T_a29a6_row1_col10\" class=\"data row1 col10\" >0.71%</td>\n",
              "      <td id=\"T_a29a6_row1_col11\" class=\"data row1 col11\" >0.49%</td>\n",
              "      <td id=\"T_a29a6_row1_col12\" class=\"data row1 col12\" >0.61%</td>\n",
              "      <td id=\"T_a29a6_row1_col13\" class=\"data row1 col13\" >0.67%</td>\n",
              "      <td id=\"T_a29a6_row1_col14\" class=\"data row1 col14\" >0.70%</td>\n",
              "      <td id=\"T_a29a6_row1_col15\" class=\"data row1 col15\" >0.61%</td>\n",
              "      <td id=\"T_a29a6_row1_col16\" class=\"data row1 col16\" >0.70%</td>\n",
              "      <td id=\"T_a29a6_row1_col17\" class=\"data row1 col17\" >0.48%</td>\n",
              "      <td id=\"T_a29a6_row1_col18\" class=\"data row1 col18\" >0.60%</td>\n",
              "      <td id=\"T_a29a6_row1_col19\" class=\"data row1 col19\" >0.66%</td>\n",
              "      <td id=\"T_a29a6_row1_col20\" class=\"data row1 col20\" >0.69%</td>\n",
              "      <td id=\"T_a29a6_row1_col21\" class=\"data row1 col21\" >0.61%</td>\n",
              "    </tr>\n",
              "    <tr>\n",
              "      <th id=\"T_a29a6_level0_row2\" class=\"row_heading level0 row2\" >078930</th>\n",
              "      <td id=\"T_a29a6_row2_col0\" class=\"data row2 col0\" >0.43%</td>\n",
              "      <td id=\"T_a29a6_row2_col1\" class=\"data row2 col1\" >0.00%</td>\n",
              "      <td id=\"T_a29a6_row2_col2\" class=\"data row2 col2\" >0.40%</td>\n",
              "      <td id=\"T_a29a6_row2_col3\" class=\"data row2 col3\" >0.48%</td>\n",
              "      <td id=\"T_a29a6_row2_col4\" class=\"data row2 col4\" >25.31%</td>\n",
              "      <td id=\"T_a29a6_row2_col5\" class=\"data row2 col5\" >22.57%</td>\n",
              "      <td id=\"T_a29a6_row2_col6\" class=\"data row2 col6\" >0.45%</td>\n",
              "      <td id=\"T_a29a6_row2_col7\" class=\"data row2 col7\" >0.51%</td>\n",
              "      <td id=\"T_a29a6_row2_col8\" class=\"data row2 col8\" >0.60%</td>\n",
              "      <td id=\"T_a29a6_row2_col9\" class=\"data row2 col9\" >0.66%</td>\n",
              "      <td id=\"T_a29a6_row2_col10\" class=\"data row2 col10\" >0.79%</td>\n",
              "      <td id=\"T_a29a6_row2_col11\" class=\"data row2 col11\" >0.48%</td>\n",
              "      <td id=\"T_a29a6_row2_col12\" class=\"data row2 col12\" >0.71%</td>\n",
              "      <td id=\"T_a29a6_row2_col13\" class=\"data row2 col13\" >0.85%</td>\n",
              "      <td id=\"T_a29a6_row2_col14\" class=\"data row2 col14\" >0.81%</td>\n",
              "      <td id=\"T_a29a6_row2_col15\" class=\"data row2 col15\" >0.68%</td>\n",
              "      <td id=\"T_a29a6_row2_col16\" class=\"data row2 col16\" >0.80%</td>\n",
              "      <td id=\"T_a29a6_row2_col17\" class=\"data row2 col17\" >0.48%</td>\n",
              "      <td id=\"T_a29a6_row2_col18\" class=\"data row2 col18\" >0.71%</td>\n",
              "      <td id=\"T_a29a6_row2_col19\" class=\"data row2 col19\" >0.86%</td>\n",
              "      <td id=\"T_a29a6_row2_col20\" class=\"data row2 col20\" >0.83%</td>\n",
              "      <td id=\"T_a29a6_row2_col21\" class=\"data row2 col21\" >0.68%</td>\n",
              "    </tr>\n",
              "    <tr>\n",
              "      <th id=\"T_a29a6_level0_row3\" class=\"row_heading level0 row3\" >153130</th>\n",
              "      <td id=\"T_a29a6_row3_col0\" class=\"data row3 col0\" >53.02%</td>\n",
              "      <td id=\"T_a29a6_row3_col1\" class=\"data row3 col1\" >57.48%</td>\n",
              "      <td id=\"T_a29a6_row3_col2\" class=\"data row3 col2\" >51.50%</td>\n",
              "      <td id=\"T_a29a6_row3_col3\" class=\"data row3 col3\" >54.57%</td>\n",
              "      <td id=\"T_a29a6_row3_col4\" class=\"data row3 col4\" >24.09%</td>\n",
              "      <td id=\"T_a29a6_row3_col5\" class=\"data row3 col5\" >25.59%</td>\n",
              "      <td id=\"T_a29a6_row3_col6\" class=\"data row3 col6\" >49.17%</td>\n",
              "      <td id=\"T_a29a6_row3_col7\" class=\"data row3 col7\" >54.85%</td>\n",
              "      <td id=\"T_a29a6_row3_col8\" class=\"data row3 col8\" >58.95%</td>\n",
              "      <td id=\"T_a29a6_row3_col9\" class=\"data row3 col9\" >57.71%</td>\n",
              "      <td id=\"T_a29a6_row3_col10\" class=\"data row3 col10\" >56.10%</td>\n",
              "      <td id=\"T_a29a6_row3_col11\" class=\"data row3 col11\" >46.32%</td>\n",
              "      <td id=\"T_a29a6_row3_col12\" class=\"data row3 col12\" >51.92%</td>\n",
              "      <td id=\"T_a29a6_row3_col13\" class=\"data row3 col13\" >54.66%</td>\n",
              "      <td id=\"T_a29a6_row3_col14\" class=\"data row3 col14\" >55.47%</td>\n",
              "      <td id=\"T_a29a6_row3_col15\" class=\"data row3 col15\" >49.89%</td>\n",
              "      <td id=\"T_a29a6_row3_col16\" class=\"data row3 col16\" >56.10%</td>\n",
              "      <td id=\"T_a29a6_row3_col17\" class=\"data row3 col17\" >46.32%</td>\n",
              "      <td id=\"T_a29a6_row3_col18\" class=\"data row3 col18\" >51.93%</td>\n",
              "      <td id=\"T_a29a6_row3_col19\" class=\"data row3 col19\" >54.66%</td>\n",
              "      <td id=\"T_a29a6_row3_col20\" class=\"data row3 col20\" >55.47%</td>\n",
              "      <td id=\"T_a29a6_row3_col21\" class=\"data row3 col21\" >49.89%</td>\n",
              "    </tr>\n",
              "    <tr>\n",
              "      <th id=\"T_a29a6_level0_row4\" class=\"row_heading level0 row4\" >214980</th>\n",
              "      <td id=\"T_a29a6_row4_col0\" class=\"data row4 col0\" >45.58%</td>\n",
              "      <td id=\"T_a29a6_row4_col1\" class=\"data row4 col1\" >42.49%</td>\n",
              "      <td id=\"T_a29a6_row4_col2\" class=\"data row4 col2\" >47.23%</td>\n",
              "      <td id=\"T_a29a6_row4_col3\" class=\"data row4 col3\" >43.97%</td>\n",
              "      <td id=\"T_a29a6_row4_col4\" class=\"data row4 col4\" >24.11%</td>\n",
              "      <td id=\"T_a29a6_row4_col5\" class=\"data row4 col5\" >25.61%</td>\n",
              "      <td id=\"T_a29a6_row4_col6\" class=\"data row4 col6\" >49.39%</td>\n",
              "      <td id=\"T_a29a6_row4_col7\" class=\"data row4 col7\" >43.64%</td>\n",
              "      <td id=\"T_a29a6_row4_col8\" class=\"data row4 col8\" >39.39%</td>\n",
              "      <td id=\"T_a29a6_row4_col9\" class=\"data row4 col9\" >40.54%</td>\n",
              "      <td id=\"T_a29a6_row4_col10\" class=\"data row4 col10\" >41.16%</td>\n",
              "      <td id=\"T_a29a6_row4_col11\" class=\"data row4 col11\" >51.36%</td>\n",
              "      <td id=\"T_a29a6_row4_col12\" class=\"data row4 col12\" >45.17%</td>\n",
              "      <td id=\"T_a29a6_row4_col13\" class=\"data row4 col13\" >42.42%</td>\n",
              "      <td id=\"T_a29a6_row4_col14\" class=\"data row4 col14\" >41.67%</td>\n",
              "      <td id=\"T_a29a6_row4_col15\" class=\"data row4 col15\" >47.17%</td>\n",
              "      <td id=\"T_a29a6_row4_col16\" class=\"data row4 col16\" >41.17%</td>\n",
              "      <td id=\"T_a29a6_row4_col17\" class=\"data row4 col17\" >51.37%</td>\n",
              "      <td id=\"T_a29a6_row4_col18\" class=\"data row4 col18\" >45.19%</td>\n",
              "      <td id=\"T_a29a6_row4_col19\" class=\"data row4 col19\" >42.41%</td>\n",
              "      <td id=\"T_a29a6_row4_col20\" class=\"data row4 col20\" >41.66%</td>\n",
              "      <td id=\"T_a29a6_row4_col21\" class=\"data row4 col21\" >47.17%</td>\n",
              "    </tr>\n",
              "  </tbody>\n",
              "</table>\n"
            ]
          },
          "metadata": {},
          "execution_count": 16
        }
      ]
    },
    {
      "cell_type": "code",
      "source": [
        "fig = plt.gcf()\n",
        "fig.set_figwidth(14)\n",
        "fig.set_figheight(6)\n",
        "ax = fig.subplots(nrows=1, ncols=1)\n",
        "\n",
        "w_s.plot.bar(ax=ax)"
      ],
      "metadata": {
        "colab": {
          "base_uri": "https://localhost:8080/",
          "height": 403
        },
        "id": "1d5DDo55bOtZ",
        "outputId": "92d34d96-98da-4c92-831c-863b271d3b49"
      },
      "execution_count": 17,
      "outputs": [
        {
          "output_type": "execute_result",
          "data": {
            "text/plain": [
              "<AxesSubplot:>"
            ]
          },
          "metadata": {},
          "execution_count": 17
        },
        {
          "output_type": "display_data",
          "data": {
            "text/plain": [
              "<Figure size 1008x432 with 1 Axes>"
            ],
            "image/png": "[encoded data removed]"
          },
          "metadata": {
            "needs_background": "light"
          }
        }
      ]
    },
    {
      "cell_type": "code",
      "source": [
        "stock_list = pd.read_csv('./stock_list.csv')\n",
        "stock_list['종목코드'] = stock_list['종목코드'].apply(lambda x : str(x).zfill(6))\n",
        "stock_list.set_index('종목코드', inplace=True)\n",
        "\n",
        "w_trade = pd.concat([w, stock_list['종목명'].loc[w.index.values]], axis=1)\n",
        "w_trade"
      ],
      "metadata": {
        "colab": {
          "base_uri": "https://localhost:8080/",
          "height": 206
        },
        "id": "cEc-DMtTbqmH",
        "outputId": "23ee0bc9-ec5b-4a91-c359-bb8d9057679c"
      },
      "execution_count": 22,
      "outputs": [
        {
          "output_type": "execute_result",
          "data": {
            "text/plain": [
              "        weights  filter             종목명\n",
              "033780  1.6457%    True            KT&G\n",
              "030200  0.6055%    True              KT\n",
              "078930  0.6849%    True              GS\n",
              "153130 49.8890%    True      KODEX 단기채권\n",
              "214980 47.1748%    True  KODEX 단기채권PLUS"
            ],
            "text/html": [
              "\n",
              "  <div id=\"df-1819ec6b-96a1-4d33-940b-14edccdc130f\">\n",
              "    <div class=\"colab-df-container\">\n",
              "      <div>\n",
              "<style scoped>\n",
              "    .dataframe tbody tr th:only-of-type {\n",
              "        vertical-align: middle;\n",
              "    }\n",
              "\n",
              "    .dataframe tbody tr th {\n",
              "        vertical-align: top;\n",
              "    }\n",
              "\n",
              "    .dataframe thead th {\n",
              "        text-align: right;\n",
              "    }\n",
              "</style>\n",
              "<table border=\"1\" class=\"dataframe\">\n",
              "  <thead>\n",
              "    <tr style=\"text-align: right;\">\n",
              "      <th></th>\n",
              "      <th>weights</th>\n",
              "      <th>filter</th>\n",
              "      <th>종목명</th>\n",
              "    </tr>\n",
              "  </thead>\n",
              "  <tbody>\n",
              "    <tr>\n",
              "      <th>033780</th>\n",
              "      <td>1.6457%</td>\n",
              "      <td>True</td>\n",
              "      <td>KT&amp;G</td>\n",
              "    </tr>\n",
              "    <tr>\n",
              "      <th>030200</th>\n",
              "      <td>0.6055%</td>\n",
              "      <td>True</td>\n",
              "      <td>KT</td>\n",
              "    </tr>\n",
              "    <tr>\n",
              "      <th>078930</th>\n",
              "      <td>0.6849%</td>\n",
              "      <td>True</td>\n",
              "      <td>GS</td>\n",
              "    </tr>\n",
              "    <tr>\n",
              "      <th>153130</th>\n",
              "      <td>49.8890%</td>\n",
              "      <td>True</td>\n",
              "      <td>KODEX 단기채권</td>\n",
              "    </tr>\n",
              "    <tr>\n",
              "      <th>214980</th>\n",
              "      <td>47.1748%</td>\n",
              "      <td>True</td>\n",
              "      <td>KODEX 단기채권PLUS</td>\n",
              "    </tr>\n",
              "  </tbody>\n",
              "</table>\n",
              "</div>\n",
              "      <button class=\"colab-df-convert\" onclick=\"convertToInteractive('df-1819ec6b-96a1-4d33-940b-14edccdc130f')\"\n",
              "              title=\"Convert this dataframe to an interactive table.\"\n",
              "              style=\"display:none;\">\n",
              "        \n",
              "  <svg xmlns=\"http://www.w3.org/2000/svg\" height=\"24px\"viewBox=\"0 0 24 24\"\n",
              "       width=\"24px\">\n",
              "    <path d=\"M0 0h24v24H0V0z\" fill=\"none\"/>\n",
              "    <path d=\"M18.56 5.44l.94 2.06.94-2.06 2.06-.94-2.06-.94-.94-2.06-.94 2.06-2.06.94zm-11 1L8.5 8.5l.94-2.06 2.06-.94-2.06-.94L8.5 2.5l-.94 2.06-2.06.94zm10 10l.94 2.06.94-2.06 2.06-.94-2.06-.94-.94-2.06-.94 2.06-2.06.94z\"/><path d=\"M17.41 7.96l-1.37-1.37c-.4-.4-.92-.59-1.43-.59-.52 0-1.04.2-1.43.59L10.3 9.45l-7.72 7.72c-.78.78-.78 2.05 0 2.83L4 21.41c.39.39.9.59 1.41.59.51 0 1.02-.2 1.41-.59l7.78-7.78 2.81-2.81c.8-.78.8-2.07 0-2.86zM5.41 20L4 18.59l7.72-7.72 1.47 1.35L5.41 20z\"/>\n",
              "  </svg>\n",
              "      </button>\n",
              "      \n",
              "  <style>\n",
              "    .colab-df-container {\n",
              "      display:flex;\n",
              "      flex-wrap:wrap;\n",
              "      gap: 12px;\n",
              "    }\n",
              "\n",
              "    .colab-df-convert {\n",
              "      background-color: #E8F0FE;\n",
              "      border: none;\n",
              "      border-radius: 50%;\n",
              "      cursor: pointer;\n",
              "      display: none;\n",
              "      fill: #1967D2;\n",
              "      height: 32px;\n",
              "      padding: 0 0 0 0;\n",
              "      width: 32px;\n",
              "    }\n",
              "\n",
              "    .colab-df-convert:hover {\n",
              "      background-color: #E2EBFA;\n",
              "      box-shadow: 0px 1px 2px rgba(60, 64, 67, 0.3), 0px 1px 3px 1px rgba(60, 64, 67, 0.15);\n",
              "      fill: #174EA6;\n",
              "    }\n",
              "\n",
              "    [theme=dark] .colab-df-convert {\n",
              "      background-color: #3B4455;\n",
              "      fill: #D2E3FC;\n",
              "    }\n",
              "\n",
              "    [theme=dark] .colab-df-convert:hover {\n",
              "      background-color: #434B5C;\n",
              "      box-shadow: 0px 1px 3px 1px rgba(0, 0, 0, 0.15);\n",
              "      filter: drop-shadow(0px 1px 2px rgba(0, 0, 0, 0.3));\n",
              "      fill: #FFFFFF;\n",
              "    }\n",
              "  </style>\n",
              "\n",
              "      <script>\n",
              "        const buttonEl =\n",
              "          document.querySelector('#df-1819ec6b-96a1-4d33-940b-14edccdc130f button.colab-df-convert');\n",
              "        buttonEl.style.display =\n",
              "          google.colab.kernel.accessAllowed ? 'block' : 'none';\n",
              "\n",
              "        async function convertToInteractive(key) {\n",
              "          const element = document.querySelector('#df-1819ec6b-96a1-4d33-940b-14edccdc130f');\n",
              "          const dataTable =\n",
              "            await google.colab.kernel.invokeFunction('convertToInteractive',\n",
              "                                                     [key], {});\n",
              "          if (!dataTable) return;\n",
              "\n",
              "          const docLinkHtml = 'Like what you see? Visit the ' +\n",
              "            '<a target=\"_blank\" href=https://colab.research.google.com/notebooks/data_table.ipynb>data table notebook</a>'\n",
              "            + ' to learn more about interactive tables.';\n",
              "          element.innerHTML = '';\n",
              "          dataTable['output_type'] = 'display_data';\n",
              "          await google.colab.output.renderOutput(dataTable, element);\n",
              "          const docLink = document.createElement('div');\n",
              "          docLink.innerHTML = docLinkHtml;\n",
              "          element.appendChild(docLink);\n",
              "        }\n",
              "      </script>\n",
              "    </div>\n",
              "  </div>\n",
              "  "
            ]
          },
          "metadata": {},
          "execution_count": 22
        }
      ]
    },
    {
      "cell_type": "code",
      "source": [
        ""
      ],
      "metadata": {
        "id": "uovwKqAGfR9Y"
      },
      "execution_count": null,
      "outputs": []
    }
  ]
}